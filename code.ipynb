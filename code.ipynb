{
 "cells": [
  {
   "cell_type": "code",
   "execution_count": 6,
   "id": "dc7d7fd0-1a70-4673-8ead-c5524b783a6c",
   "metadata": {},
   "outputs": [
    {
     "name": "stderr",
     "output_type": "stream",
     
     ]
    }
   ],
   "source": [
    "import cv2\n",
    "import mediapipe as mp\n",
    "import numpy as np\n",
    "from deepface import DeepFace\n",
    "\n",
    "# Load MediaPipe Face Detection\n",
    "mp_face_detection = mp.solutions.face_detection\n",
    "mp_drawing = mp.solutions.drawing_utils\n",
    "face_detection = mp_face_detection.FaceDetection(min_detection_confidence=0.6)\n",
    "\n",
    "# Load Emoji Images\n",
    "emoji_dict = {\n",
    "    \"happy\": cv2.imread(\"joy.png\"),\n",
    "    \"sad\": cv2.imread(\"expressionless.png\"),\n",
    "    \"angry\": cv2.imread(\"me.jpg\"),\n",
    "    \"surprise\": cv2.imread(\"rolling_on_the_floor_laughing.png\"),\n",
    "    \"neutral\": cv2.imread(\"exploding_head.png\")\n",
    "}\n",
    "\n",
    "# Resize emojis\n",
    "for key in emoji_dict:\n",
    "    emoji_dict[key] = cv2.resize(emoji_dict[key], (100, 100))  # Adjust size as needed\n",
    "\n",
    "# Open Webcam\n",
    "cap = cv2.VideoCapture(0)\n",
    "\n",
    "current_emoji = emoji_dict[\"neutral\"]  # Default emoji\n",
    "\n",
    "while cap.isOpened():\n",
    "    ret, frame = cap.read()\n",
    "    if not ret:\n",
    "        break\n",
    "\n",
    "    # Convert frame to RGB for MediaPipe\n",
    "    rgb_frame = cv2.cvtColor(frame, cv2.COLOR_BGR2RGB)\n",
    "    results = face_detection.process(rgb_frame)\n",
    "\n",
    "    if results.detections:\n",
    "        for detection in results.detections:\n",
    "            bboxC = detection.location_data.relative_bounding_box\n",
    "            h, w, _ = frame.shape\n",
    "\n",
    "            # Get face bounding box\n",
    "            x, y, width, height = int(bboxC.xmin * w), int(bboxC.ymin * h), int(bboxC.width * w), int(bboxC.height * h)\n",
    "            face_img = frame[y:y + height, x:x + width]\n",
    "\n",
    "            # Emotion detection using DeepFace\n",
    "            try:\n",
    "                analysis = DeepFace.analyze(face_img, actions=['emotion'], enforce_detection=False)\n",
    "                emotion = analysis[0]['dominant_emotion']\n",
    "\n",
    "                # Choose emoji based on emotion\n",
    "                if emotion in emoji_dict:\n",
    "                    current_emoji = emoji_dict[emotion]\n",
    "                else:\n",
    "                    current_emoji = emoji_dict[\"neutral\"]\n",
    "\n",
    "            except Exception as e:\n",
    "                print(\"Emotion Detection Error:\", str(e))\n",
    "\n",
    "    # Overlay emoji on the top right corner\n",
    "    frame[10:110, -110:-10] = current_emoji  # Adjust position\n",
    "\n",
    "    # Show result\n",
    "    cv2.imshow(\"Facial Emotion Detection\", frame)\n",
    "\n",
    "    if cv2.waitKey(1) & 0xFF == ord('q'):  # Press 'q' to exit\n",
    "        break\n",
    "\n",
    "cap.release()\n",
    "cv2.destroyAllWindows()\n"
   ]
  },
  {
   "cell_type": "code",
   "execution_count": null,
   "id": "f6fa2efe-a561-4418-b1cb-942a9bccc472",
   "metadata": {},
   "outputs": [],
   "source": []
  }
 ],
 "metadata": {
  "kernelspec": {
   "display_name": "Python 3 (ipykernel)",
   "language": "python",
   "name": "python3"
  },
  "language_info": {
   "codemirror_mode": {
    "name": "ipython",
    "version": 3
   },
   "file_extension": ".py",
   "mimetype": "text/x-python",
   "name": "python",
   "nbconvert_exporter": "python",
   "pygments_lexer": "ipython3",
   "version": "3.12.3"
  }
 },
 "nbformat": 4,
 "nbformat_minor": 5
}
